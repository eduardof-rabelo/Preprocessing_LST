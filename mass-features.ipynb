{
 "cells": [
  {
   "cell_type": "code",
   "execution_count": 1,
   "metadata": {},
   "outputs": [
    {
     "name": "stderr",
     "output_type": "stream",
     "text": [
      "/home/usuario/.local/lib/python3.10/site-packages/matplotlib/projections/__init__.py:63: UserWarning: Unable to import Axes3D. This may be due to multiple versions of Matplotlib being installed (e.g. as a system package and as a pip package). As a result, the 3D projection is not available.\n",
      "  warnings.warn(\"Unable to import Axes3D. This may be due to multiple versions of \"\n"
     ]
    }
   ],
   "source": [
    "import numpy as np\n",
    "import pandas as pd\n",
    "import os\n",
    "from pathlib import Path\n",
    "import matplotlib.pyplot as plt\n",
    "import gzip as gz"
   ]
  },
  {
   "cell_type": "code",
   "execution_count": 69,
   "metadata": {},
   "outputs": [],
   "source": [
    "#Encontrar o arquivo:\n",
    "\n",
    "path = Path('/home/usuario/Área de Trabalho/Mestrado/dados/image')\n",
    "\n",
    "\n",
    "filepaths = {}\n",
    "\n",
    "mass = 'electron'\n",
    "path_dir = Path(os.path.join(path, mass))\n",
    "filepaths[mass] = pd.Series(list(os.listdir(path_dir)), name=f'{mass}').astype(str)"
   ]
  },
  {
   "cell_type": "code",
   "execution_count": 3,
   "metadata": {},
   "outputs": [
    {
     "data": {
      "text/plain": [
       "830988"
      ]
     },
     "execution_count": 3,
     "metadata": {},
     "output_type": "execute_result"
    }
   ],
   "source": [
    "len(filepaths[mass])"
   ]
  },
  {
   "cell_type": "code",
   "execution_count": 4,
   "metadata": {},
   "outputs": [],
   "source": [
    "def getEvents(filepath):\n",
    "\n",
    "    with gz.open(filepath, 'rb') as f:\n",
    "      data = f.read().decode(\"utf-8\") #The output reading Type is Byte, use .decode() to convert Byte to Str\n",
    "\n",
    "    eventos = [line.split()[0] for line in data.split('\\n')[:-1]]\n",
    "    eventos = np.unique(eventos)\n",
    "\n",
    "    return eventos"
   ]
  },
  {
   "cell_type": "code",
   "execution_count": 22,
   "metadata": {},
   "outputs": [],
   "source": [
    "classe, telescopio, runs, eventos = [], [], [], []\n",
    "\n",
    "for file in range(len(filepaths[mass])):\n",
    "    tipo, a, tel, b, run, c, event = filepaths[mass][file].split('_')\n",
    "    event = event[:-4]\n",
    "\n",
    "    classe.append(tipo)\n",
    "    telescopio.append(int(tel))\n",
    "    runs.append(int(run))\n",
    "    eventos.append(int(event))"
   ]
  },
  {
   "cell_type": "code",
   "execution_count": 23,
   "metadata": {},
   "outputs": [],
   "source": [
    "sclasse = pd.Series(classe, name='massa')\n",
    "stelescopio = pd.Series(telescopio, name='tel')\n",
    "sruns = pd.Series(runs,name='run')\n",
    "seventos = pd.Series(eventos,name='evento')"
   ]
  },
  {
   "cell_type": "code",
   "execution_count": 28,
   "metadata": {},
   "outputs": [],
   "source": [
    "dataframe = pd.concat([filepaths[mass],sclasse, stelescopio, sruns, seventos], axis=1).sort_values('evento', ignore_index=True)"
   ]
  },
  {
   "cell_type": "code",
   "execution_count": 29,
   "metadata": {},
   "outputs": [
    {
     "data": {
      "text/html": [
       "<div>\n",
       "<style scoped>\n",
       "    .dataframe tbody tr th:only-of-type {\n",
       "        vertical-align: middle;\n",
       "    }\n",
       "\n",
       "    .dataframe tbody tr th {\n",
       "        vertical-align: top;\n",
       "    }\n",
       "\n",
       "    .dataframe thead th {\n",
       "        text-align: right;\n",
       "    }\n",
       "</style>\n",
       "<table border=\"1\" class=\"dataframe\">\n",
       "  <thead>\n",
       "    <tr style=\"text-align: right;\">\n",
       "      <th></th>\n",
       "      <th>electron</th>\n",
       "      <th>massa</th>\n",
       "      <th>tel</th>\n",
       "      <th>run</th>\n",
       "      <th>evento</th>\n",
       "    </tr>\n",
       "  </thead>\n",
       "  <tbody>\n",
       "    <tr>\n",
       "      <th>0</th>\n",
       "      <td>electron_tel_2_run_356_event_100.txt</td>\n",
       "      <td>electron</td>\n",
       "      <td>2</td>\n",
       "      <td>356</td>\n",
       "      <td>100</td>\n",
       "    </tr>\n",
       "    <tr>\n",
       "      <th>1</th>\n",
       "      <td>electron_tel_2_run_340_event_100.txt</td>\n",
       "      <td>electron</td>\n",
       "      <td>2</td>\n",
       "      <td>340</td>\n",
       "      <td>100</td>\n",
       "    </tr>\n",
       "    <tr>\n",
       "      <th>2</th>\n",
       "      <td>electron_tel_3_run_364_event_100.txt</td>\n",
       "      <td>electron</td>\n",
       "      <td>3</td>\n",
       "      <td>364</td>\n",
       "      <td>100</td>\n",
       "    </tr>\n",
       "    <tr>\n",
       "      <th>3</th>\n",
       "      <td>electron_tel_1_run_340_event_100.txt</td>\n",
       "      <td>electron</td>\n",
       "      <td>1</td>\n",
       "      <td>340</td>\n",
       "      <td>100</td>\n",
       "    </tr>\n",
       "    <tr>\n",
       "      <th>4</th>\n",
       "      <td>electron_tel_1_run_364_event_100.txt</td>\n",
       "      <td>electron</td>\n",
       "      <td>1</td>\n",
       "      <td>364</td>\n",
       "      <td>100</td>\n",
       "    </tr>\n",
       "  </tbody>\n",
       "</table>\n",
       "</div>"
      ],
      "text/plain": [
       "                               electron     massa  tel  run  evento\n",
       "0  electron_tel_2_run_356_event_100.txt  electron    2  356     100\n",
       "1  electron_tel_2_run_340_event_100.txt  electron    2  340     100\n",
       "2  electron_tel_3_run_364_event_100.txt  electron    3  364     100\n",
       "3  electron_tel_1_run_340_event_100.txt  electron    1  340     100\n",
       "4  electron_tel_1_run_364_event_100.txt  electron    1  364     100"
      ]
     },
     "execution_count": 29,
     "metadata": {},
     "output_type": "execute_result"
    }
   ],
   "source": [
    "dataframe.head()"
   ]
  },
  {
   "cell_type": "code",
   "execution_count": 31,
   "metadata": {},
   "outputs": [
    {
     "name": "stdout",
     "output_type": "stream",
     "text": [
      "/home/usuario/Área de Trabalho/Mestrado/dados/summary/electron/electron_tel_1.xlsx\n",
      "/home/usuario/Área de Trabalho/Mestrado/dados/summary/electron/electron_tel_2.xlsx\n",
      "/home/usuario/Área de Trabalho/Mestrado/dados/summary/electron/electron_tel_3.xlsx\n",
      "/home/usuario/Área de Trabalho/Mestrado/dados/summary/electron/electron_tel_4.xlsx\n"
     ]
    }
   ],
   "source": [
    "summary = Path('/home/usuario/Área de Trabalho/Mestrado/dados/summary')\n",
    "\n",
    "data = {}\n",
    "data[mass] = {}\n",
    "data_dir = os.path.join(summary, mass)\n",
    "\n",
    "for num, telescope in enumerate(sorted(os.listdir(data_dir))):\n",
    "    telescope_dir = os.path.join(data_dir, telescope)\n",
    "    print(telescope_dir)\n",
    "    data[mass][num+1] = pd.read_excel(telescope_dir, sheet_name = None)"
   ]
  },
  {
   "cell_type": "code",
   "execution_count": 32,
   "metadata": {},
   "outputs": [
    {
     "name": "stdout",
     "output_type": "stream",
     "text": [
      "  (1): event\n",
      "  (2): telescope\n",
      "  (3): energy\n",
      "  (4): core distance to telescope\n",
      "  (5): image size (amplitude) [p.e.]\n",
      "  (6): number of pixels in image\n",
      "  (7): width [deg.]\n",
      "  (8): length [deg.]\n",
      "  (9): distance [deg.]\n",
      " (10): miss [deg.]\n",
      " (11): alpha [deg.]\n",
      " (12): orientation [deg.]\n",
      " (13): direction [deg.]\n",
      " (14): image c.o.g. x [deg.]\n",
      " (15): image c.o.g. y [deg.]\n",
      " (16): Xmax [g/cm^2]\n",
      " (17): Hmax [m]\n",
      " (18): Npe (true number of photo-electrons)\n"
     ]
    }
   ],
   "source": [
    "header = data[mass][1]['run_1'].columns\n",
    "for i in header:\n",
    "  print(i)"
   ]
  },
  {
   "cell_type": "code",
   "execution_count": 75,
   "metadata": {},
   "outputs": [],
   "source": [
    "def get_title(num:int, header):\n",
    "  \"\"\"\n",
    "  Função para associar o título de cada coluna à seu respectivo número.\n",
    "\n",
    "  num : int = número do feature do cabeçalho.\n",
    "  header : list = cabeçalho do sumário.\n",
    "\n",
    "  num = 3 -> energia\n",
    "  num = 1 -> massa\n",
    "\n",
    "  \"\"\"\n",
    "\n",
    "  return header[num-1]\n",
    "\n",
    "def get_energy(massa, evento, datas, header):\n",
    "  \"\"\"\n",
    "  Função que busca o valor da energia de um respectivo evento em uma run específica:\n",
    "\n",
    "  feature_list : list = lista de features extraídos do nome do arquivo.\n",
    "  data_df : pd.DataFrame = sumário da imagem que está sendo executada.\n",
    "  name: str = nome do arquivo.\n",
    "\n",
    "  Retorna o nome do arquivo com a energia em MeV.\n",
    "  \"\"\"\n",
    "\n",
    "  df = datas\n",
    "\n",
    "  #df = data_df[tel][run] #tem que mudar isso para ser automatico de acordo com cada\n",
    "\n",
    "  if evento in df['  (1): event'].to_list():\n",
    "    idx = df[get_title(1, header)].to_list().index(int(evento))\n",
    "    return df[get_title(3, header)][3]\n",
    "  else:\n",
    "    return 0"
   ]
  },
  {
   "cell_type": "code",
   "execution_count": 56,
   "metadata": {},
   "outputs": [],
   "source": [
    "header = data[mass][1]['run_1'].columns\n",
    "energia = []\n",
    "\n",
    "for file in range(len(filepaths[mass])):\n",
    "    energy = get_energy(classe[file], eventos[file], data[mass][int(telescopio[file])][f'run_{int(runs[file])}'], header)\n",
    "    energia.append(energy)"
   ]
  },
  {
   "cell_type": "code",
   "execution_count": 66,
   "metadata": {},
   "outputs": [],
   "source": [
    "senergia = pd.Series(energia, name='energia')\n",
    "mass_df = pd.concat([dataframe, senergia], axis=1)"
   ]
  },
  {
   "cell_type": "code",
   "execution_count": 68,
   "metadata": {},
   "outputs": [
    {
     "data": {
      "text/html": [
       "<div>\n",
       "<style scoped>\n",
       "    .dataframe tbody tr th:only-of-type {\n",
       "        vertical-align: middle;\n",
       "    }\n",
       "\n",
       "    .dataframe tbody tr th {\n",
       "        vertical-align: top;\n",
       "    }\n",
       "\n",
       "    .dataframe thead th {\n",
       "        text-align: right;\n",
       "    }\n",
       "</style>\n",
       "<table border=\"1\" class=\"dataframe\">\n",
       "  <thead>\n",
       "    <tr style=\"text-align: right;\">\n",
       "      <th></th>\n",
       "      <th>electron</th>\n",
       "      <th>massa</th>\n",
       "      <th>tel</th>\n",
       "      <th>run</th>\n",
       "      <th>evento</th>\n",
       "      <th>energia</th>\n",
       "    </tr>\n",
       "  </thead>\n",
       "  <tbody>\n",
       "    <tr>\n",
       "      <th>0</th>\n",
       "      <td>electron_tel_2_run_356_event_100.txt</td>\n",
       "      <td>electron</td>\n",
       "      <td>2</td>\n",
       "      <td>356</td>\n",
       "      <td>100</td>\n",
       "      <td>0.1573</td>\n",
       "    </tr>\n",
       "    <tr>\n",
       "      <th>1</th>\n",
       "      <td>electron_tel_2_run_340_event_100.txt</td>\n",
       "      <td>electron</td>\n",
       "      <td>2</td>\n",
       "      <td>340</td>\n",
       "      <td>100</td>\n",
       "      <td>0.2875</td>\n",
       "    </tr>\n",
       "    <tr>\n",
       "      <th>2</th>\n",
       "      <td>electron_tel_3_run_364_event_100.txt</td>\n",
       "      <td>electron</td>\n",
       "      <td>3</td>\n",
       "      <td>364</td>\n",
       "      <td>100</td>\n",
       "      <td>0.0434</td>\n",
       "    </tr>\n",
       "    <tr>\n",
       "      <th>3</th>\n",
       "      <td>electron_tel_1_run_340_event_100.txt</td>\n",
       "      <td>electron</td>\n",
       "      <td>1</td>\n",
       "      <td>340</td>\n",
       "      <td>100</td>\n",
       "      <td>1.3371</td>\n",
       "    </tr>\n",
       "    <tr>\n",
       "      <th>4</th>\n",
       "      <td>electron_tel_1_run_364_event_100.txt</td>\n",
       "      <td>electron</td>\n",
       "      <td>1</td>\n",
       "      <td>364</td>\n",
       "      <td>100</td>\n",
       "      <td>0.1531</td>\n",
       "    </tr>\n",
       "    <tr>\n",
       "      <th>...</th>\n",
       "      <td>...</td>\n",
       "      <td>...</td>\n",
       "      <td>...</td>\n",
       "      <td>...</td>\n",
       "      <td>...</td>\n",
       "      <td>...</td>\n",
       "    </tr>\n",
       "    <tr>\n",
       "      <th>830983</th>\n",
       "      <td>electron_tel_4_run_030_event_5000000.txt</td>\n",
       "      <td>electron</td>\n",
       "      <td>4</td>\n",
       "      <td>30</td>\n",
       "      <td>5000000</td>\n",
       "      <td>0.4528</td>\n",
       "    </tr>\n",
       "    <tr>\n",
       "      <th>830984</th>\n",
       "      <td>electron_tel_3_run_358_event_5000000.txt</td>\n",
       "      <td>electron</td>\n",
       "      <td>3</td>\n",
       "      <td>358</td>\n",
       "      <td>5000000</td>\n",
       "      <td>0.0536</td>\n",
       "    </tr>\n",
       "    <tr>\n",
       "      <th>830985</th>\n",
       "      <td>electron_tel_1_run_030_event_5000000.txt</td>\n",
       "      <td>electron</td>\n",
       "      <td>1</td>\n",
       "      <td>30</td>\n",
       "      <td>5000000</td>\n",
       "      <td>0.9820</td>\n",
       "    </tr>\n",
       "    <tr>\n",
       "      <th>830986</th>\n",
       "      <td>electron_tel_2_run_358_event_5000000.txt</td>\n",
       "      <td>electron</td>\n",
       "      <td>2</td>\n",
       "      <td>358</td>\n",
       "      <td>5000000</td>\n",
       "      <td>0.0759</td>\n",
       "    </tr>\n",
       "    <tr>\n",
       "      <th>830987</th>\n",
       "      <td>electron_tel_1_run_051_event_5000000.txt</td>\n",
       "      <td>electron</td>\n",
       "      <td>1</td>\n",
       "      <td>51</td>\n",
       "      <td>5000000</td>\n",
       "      <td>0.0656</td>\n",
       "    </tr>\n",
       "  </tbody>\n",
       "</table>\n",
       "<p>830988 rows × 6 columns</p>\n",
       "</div>"
      ],
      "text/plain": [
       "                                        electron     massa  tel  run   evento  \\\n",
       "0           electron_tel_2_run_356_event_100.txt  electron    2  356      100   \n",
       "1           electron_tel_2_run_340_event_100.txt  electron    2  340      100   \n",
       "2           electron_tel_3_run_364_event_100.txt  electron    3  364      100   \n",
       "3           electron_tel_1_run_340_event_100.txt  electron    1  340      100   \n",
       "4           electron_tel_1_run_364_event_100.txt  electron    1  364      100   \n",
       "...                                          ...       ...  ...  ...      ...   \n",
       "830983  electron_tel_4_run_030_event_5000000.txt  electron    4   30  5000000   \n",
       "830984  electron_tel_3_run_358_event_5000000.txt  electron    3  358  5000000   \n",
       "830985  electron_tel_1_run_030_event_5000000.txt  electron    1   30  5000000   \n",
       "830986  electron_tel_2_run_358_event_5000000.txt  electron    2  358  5000000   \n",
       "830987  electron_tel_1_run_051_event_5000000.txt  electron    1   51  5000000   \n",
       "\n",
       "        energia  \n",
       "0        0.1573  \n",
       "1        0.2875  \n",
       "2        0.0434  \n",
       "3        1.3371  \n",
       "4        0.1531  \n",
       "...         ...  \n",
       "830983   0.4528  \n",
       "830984   0.0536  \n",
       "830985   0.9820  \n",
       "830986   0.0759  \n",
       "830987   0.0656  \n",
       "\n",
       "[830988 rows x 6 columns]"
      ]
     },
     "execution_count": 68,
     "metadata": {},
     "output_type": "execute_result"
    }
   ],
   "source": [
    "mass"
   ]
  },
  {
   "cell_type": "code",
   "execution_count": 70,
   "metadata": {},
   "outputs": [],
   "source": [
    "mass_df.to_csv('/home/usuario/Área de Trabalho/Mestrado/dados/features/' + mass +'.csv', index=False)"
   ]
  },
  {
   "cell_type": "code",
   "execution_count": 64,
   "metadata": {},
   "outputs": [
    {
     "data": {
      "text/html": [
       "<div>\n",
       "<style scoped>\n",
       "    .dataframe tbody tr th:only-of-type {\n",
       "        vertical-align: middle;\n",
       "    }\n",
       "\n",
       "    .dataframe tbody tr th {\n",
       "        vertical-align: top;\n",
       "    }\n",
       "\n",
       "    .dataframe thead th {\n",
       "        text-align: right;\n",
       "    }\n",
       "</style>\n",
       "<table border=\"1\" class=\"dataframe\">\n",
       "  <thead>\n",
       "    <tr style=\"text-align: right;\">\n",
       "      <th></th>\n",
       "      <th>electron</th>\n",
       "      <th>massa</th>\n",
       "      <th>tel</th>\n",
       "      <th>run</th>\n",
       "      <th>evento</th>\n",
       "      <th>energia</th>\n",
       "    </tr>\n",
       "  </thead>\n",
       "  <tbody>\n",
       "    <tr>\n",
       "      <th>830983</th>\n",
       "      <td>electron_tel_4_run_030_event_5000000.txt</td>\n",
       "      <td>electron</td>\n",
       "      <td>4</td>\n",
       "      <td>30</td>\n",
       "      <td>5000000</td>\n",
       "      <td>0.4528</td>\n",
       "    </tr>\n",
       "    <tr>\n",
       "      <th>830984</th>\n",
       "      <td>electron_tel_3_run_358_event_5000000.txt</td>\n",
       "      <td>electron</td>\n",
       "      <td>3</td>\n",
       "      <td>358</td>\n",
       "      <td>5000000</td>\n",
       "      <td>0.0536</td>\n",
       "    </tr>\n",
       "    <tr>\n",
       "      <th>830985</th>\n",
       "      <td>electron_tel_1_run_030_event_5000000.txt</td>\n",
       "      <td>electron</td>\n",
       "      <td>1</td>\n",
       "      <td>30</td>\n",
       "      <td>5000000</td>\n",
       "      <td>0.9820</td>\n",
       "    </tr>\n",
       "    <tr>\n",
       "      <th>830986</th>\n",
       "      <td>electron_tel_2_run_358_event_5000000.txt</td>\n",
       "      <td>electron</td>\n",
       "      <td>2</td>\n",
       "      <td>358</td>\n",
       "      <td>5000000</td>\n",
       "      <td>0.0759</td>\n",
       "    </tr>\n",
       "    <tr>\n",
       "      <th>830987</th>\n",
       "      <td>electron_tel_1_run_051_event_5000000.txt</td>\n",
       "      <td>electron</td>\n",
       "      <td>1</td>\n",
       "      <td>51</td>\n",
       "      <td>5000000</td>\n",
       "      <td>0.0656</td>\n",
       "    </tr>\n",
       "  </tbody>\n",
       "</table>\n",
       "</div>"
      ],
      "text/plain": [
       "                                        electron     massa  tel  run   evento  \\\n",
       "830983  electron_tel_4_run_030_event_5000000.txt  electron    4   30  5000000   \n",
       "830984  electron_tel_3_run_358_event_5000000.txt  electron    3  358  5000000   \n",
       "830985  electron_tel_1_run_030_event_5000000.txt  electron    1   30  5000000   \n",
       "830986  electron_tel_2_run_358_event_5000000.txt  electron    2  358  5000000   \n",
       "830987  electron_tel_1_run_051_event_5000000.txt  electron    1   51  5000000   \n",
       "\n",
       "        energia  \n",
       "830983   0.4528  \n",
       "830984   0.0536  \n",
       "830985   0.9820  \n",
       "830986   0.0759  \n",
       "830987   0.0656  "
      ]
     },
     "execution_count": 64,
     "metadata": {},
     "output_type": "execute_result"
    }
   ],
   "source": [
    "mass.tail()"
   ]
  },
  {
   "cell_type": "code",
   "execution_count": 71,
   "metadata": {},
   "outputs": [],
   "source": [
    "df_el = pd.read_csv('/home/usuario/Área de Trabalho/Mestrado/dados/features/electron.csv')"
   ]
  },
  {
   "cell_type": "markdown",
   "metadata": {},
   "source": [
    "# Extrair features de todos os arquivos:"
   ]
  },
  {
   "cell_type": "code",
   "execution_count": 1,
   "metadata": {},
   "outputs": [],
   "source": [
    "def get_title(num:int, header):\n",
    "  \"\"\"\n",
    "  Função para associar o título de cada coluna à seu respectivo número.\n",
    "\n",
    "  num : int = número do feature do cabeçalho.\n",
    "  header : list = cabeçalho do sumário.\n",
    "\n",
    "  num = 3 -> energia\n",
    "  num = 1 -> massa\n",
    "\n",
    "  \"\"\"\n",
    "\n",
    "  return header[num-1]\n",
    "\n",
    "def get_energy(massa, evento, datas, header):\n",
    "  \"\"\"\n",
    "  Função que busca o valor da energia de um respectivo evento em uma run específica:\n",
    "\n",
    "  feature_list : list = lista de features extraídos do nome do arquivo.\n",
    "  data_df : pd.DataFrame = sumário da imagem que está sendo executada.\n",
    "  name: str = nome do arquivo.\n",
    "\n",
    "  Retorna o nome do arquivo com a energia em MeV.\n",
    "  \"\"\"\n",
    "\n",
    "  df = datas\n",
    "\n",
    "  #df = data_df[tel][run] #tem que mudar isso para ser automatico de acordo com cada\n",
    "  #print(df[get_title(1, header)])\n",
    "  \n",
    "  if int(evento) in df[get_title(1, header)].to_list():\n",
    "    idx = df[get_title(1, header)].to_list().index(int(evento))\n",
    "    return df[get_title(3, header)][3]\n",
    "  else:\n",
    "    return 0"
   ]
  },
  {
   "cell_type": "code",
   "execution_count": 5,
   "metadata": {},
   "outputs": [
    {
     "ename": "NameError",
     "evalue": "name 'Path' is not defined",
     "output_type": "error",
     "traceback": [
      "\u001b[0;31m---------------------------------------------------------------------------\u001b[0m",
      "\u001b[0;31mNameError\u001b[0m                                 Traceback (most recent call last)",
      "Cell \u001b[0;32mIn[5], line 3\u001b[0m\n\u001b[1;32m      1\u001b[0m \u001b[38;5;66;03m#Encontrar o arquivo:\u001b[39;00m\n\u001b[0;32m----> 3\u001b[0m path \u001b[38;5;241m=\u001b[39m \u001b[43mPath\u001b[49m(\u001b[38;5;124m'\u001b[39m\u001b[38;5;124m/home/usuario/Área de Trabalho/Mestrado/dados/image\u001b[39m\u001b[38;5;124m'\u001b[39m)\n\u001b[1;32m      6\u001b[0m filepaths \u001b[38;5;241m=\u001b[39m {}\n\u001b[1;32m      8\u001b[0m mass \u001b[38;5;241m=\u001b[39m \u001b[38;5;124m'\u001b[39m\u001b[38;5;124mgamma_diffuse\u001b[39m\u001b[38;5;124m'\u001b[39m\n",
      "\u001b[0;31mNameError\u001b[0m: name 'Path' is not defined"
     ]
    }
   ],
   "source": [
    "#Encontrar o arquivo:\n",
    "\n",
    "path = Path('/home/usuario/Área de Trabalho/Mestrado/dados/image')\n",
    "\n",
    "\n",
    "filepaths = {}\n",
    "\n",
    "mass = 'gamma_diffuse'\n",
    "path_dir = Path(os.path.join(path, mass))\n",
    "filepaths[mass] = pd.Series(list(os.listdir(path_dir)), name=f'{mass}').astype(str)\n",
    "\n",
    "classe, telescopio, runs, eventos = [], [], [], []\n",
    "\n",
    "for file in range(len(filepaths[mass])):\n",
    "    tipo, a, tel, b, run, c, event = filepaths[mass][file].split('_')\n",
    "    event = event[:-4]\n",
    "\n",
    "    classe.append(tipo)\n",
    "    telescopio.append(int(tel))\n",
    "    runs.append(int(run))\n",
    "    eventos.append(int(event))\n",
    "    \n",
    "sclasse = pd.Series(classe, name='massa')\n",
    "stelescopio = pd.Series(telescopio, name='tel')\n",
    "sruns = pd.Series(runs,name='run')\n",
    "seventos = pd.Series(eventos,name='evento')\n",
    "\n",
    "dataframe = pd.concat([filepaths[mass],sclasse, stelescopio, sruns, seventos], axis=1).sort_values('evento', ignore_index=True)"
   ]
  },
  {
   "cell_type": "code",
   "execution_count": 23,
   "metadata": {},
   "outputs": [
    {
     "ename": "KeyError",
     "evalue": "'silicon'",
     "output_type": "error",
     "traceback": [
      "\u001b[0;31m---------------------------------------------------------------------------\u001b[0m",
      "\u001b[0;31mKeyError\u001b[0m                                  Traceback (most recent call last)",
      "Cell \u001b[0;32mIn[23], line 1\u001b[0m\n\u001b[0;32m----> 1\u001b[0m \u001b[38;5;28mlen\u001b[39m(\u001b[43mfilepaths\u001b[49m\u001b[43m[\u001b[49m\u001b[38;5;124;43m'\u001b[39;49m\u001b[38;5;124;43msilicon\u001b[39;49m\u001b[38;5;124;43m'\u001b[39;49m\u001b[43m]\u001b[49m)\n",
      "\u001b[0;31mKeyError\u001b[0m: 'silicon'"
     ]
    }
   ],
   "source": [
    "len(filepaths['silicon'])"
   ]
  },
  {
   "cell_type": "code",
   "execution_count": 32,
   "metadata": {},
   "outputs": [
    {
     "name": "stdout",
     "output_type": "stream",
     "text": [
      "/home/usuario/Área de Trabalho/Mestrado/dados/summary/gamma/gamma_tel_1.xlsx\n",
      "/home/usuario/Área de Trabalho/Mestrado/dados/summary/gamma/gamma_tel_2.xlsx\n",
      "/home/usuario/Área de Trabalho/Mestrado/dados/summary/gamma/gamma_tel_3.xlsx\n",
      "/home/usuario/Área de Trabalho/Mestrado/dados/summary/gamma/gamma_tel_4.xlsx\n"
     ]
    }
   ],
   "source": [
    "summary = Path('/home/usuario/Área de Trabalho/Mestrado/dados/summary')\n",
    "\n",
    "data = {}\n",
    "data[mass] = {}\n",
    "data_dir = os.path.join(summary, mass)\n",
    "\n",
    "for num, telescope in enumerate(sorted(os.listdir(data_dir))):\n",
    "    telescope_dir = os.path.join(data_dir, telescope)\n",
    "    print(telescope_dir)\n",
    "    data[mass][num+1] = pd.read_excel(telescope_dir, sheet_name = None)"
   ]
  },
  {
   "cell_type": "code",
   "execution_count": 44,
   "metadata": {},
   "outputs": [],
   "source": [
    "header = data[mass][1]['run_1'].columns\n",
    "energia = []\n",
    "\n",
    "for file in range(len(filepaths[mass])):\n",
    "    #print(file)\n",
    "    if f'run_{int(runs[file])}' in data[mass][telescopio[file]].keys():\n",
    "        if int(runs[file]) == 2 and telescopio[file] == 2:\n",
    "            energia.append(0)\n",
    "        else:\n",
    "            energy = get_energy(classe[file], eventos[file], data[mass][telescopio[file]][f'run_{int(runs[file])}'], header)\n",
    "            energia.append(energy)\n",
    "\n",
    "senergia = pd.Series(energia, name='energia')\n",
    "mass_df = pd.concat([dataframe, senergia], axis=1)\n",
    "\n",
    "mass_df.to_csv('/home/usuario/Área de Trabalho/Mestrado/dados/features/' + mass +'.csv', index=False)"
   ]
  },
  {
   "cell_type": "code",
   "execution_count": 80,
   "metadata": {},
   "outputs": [],
   "source": [
    "df_el = pd.read_csv('/home/usuario/Área de Trabalho/Mestrado/dados/features/gamma.csv')"
   ]
  },
  {
   "cell_type": "code",
   "execution_count": 82,
   "metadata": {},
   "outputs": [
    {
     "data": {
      "text/html": [
       "<div>\n",
       "<style scoped>\n",
       "    .dataframe tbody tr th:only-of-type {\n",
       "        vertical-align: middle;\n",
       "    }\n",
       "\n",
       "    .dataframe tbody tr th {\n",
       "        vertical-align: top;\n",
       "    }\n",
       "\n",
       "    .dataframe thead th {\n",
       "        text-align: right;\n",
       "    }\n",
       "</style>\n",
       "<table border=\"1\" class=\"dataframe\">\n",
       "  <thead>\n",
       "    <tr style=\"text-align: right;\">\n",
       "      <th></th>\n",
       "      <th>gamma</th>\n",
       "      <th>massa</th>\n",
       "      <th>tel</th>\n",
       "      <th>run</th>\n",
       "      <th>evento</th>\n",
       "      <th>energia</th>\n",
       "    </tr>\n",
       "  </thead>\n",
       "  <tbody>\n",
       "    <tr>\n",
       "      <th>0</th>\n",
       "      <td>gamma_tel_3_run_093_event_100.txt</td>\n",
       "      <td>gamma</td>\n",
       "      <td>3</td>\n",
       "      <td>93</td>\n",
       "      <td>100</td>\n",
       "      <td>1.9753</td>\n",
       "    </tr>\n",
       "    <tr>\n",
       "      <th>1</th>\n",
       "      <td>gamma_tel_3_run_047_event_100.txt</td>\n",
       "      <td>gamma</td>\n",
       "      <td>3</td>\n",
       "      <td>47</td>\n",
       "      <td>100</td>\n",
       "      <td>0.0341</td>\n",
       "    </tr>\n",
       "    <tr>\n",
       "      <th>2</th>\n",
       "      <td>gamma_tel_3_run_040_event_100.txt</td>\n",
       "      <td>gamma</td>\n",
       "      <td>3</td>\n",
       "      <td>40</td>\n",
       "      <td>100</td>\n",
       "      <td>0.1156</td>\n",
       "    </tr>\n",
       "    <tr>\n",
       "      <th>3</th>\n",
       "      <td>gamma_tel_2_run_068_event_100.txt</td>\n",
       "      <td>gamma</td>\n",
       "      <td>2</td>\n",
       "      <td>68</td>\n",
       "      <td>100</td>\n",
       "      <td>0.4402</td>\n",
       "    </tr>\n",
       "    <tr>\n",
       "      <th>4</th>\n",
       "      <td>gamma_tel_3_run_083_event_100.txt</td>\n",
       "      <td>gamma</td>\n",
       "      <td>3</td>\n",
       "      <td>83</td>\n",
       "      <td>100</td>\n",
       "      <td>0.1310</td>\n",
       "    </tr>\n",
       "  </tbody>\n",
       "</table>\n",
       "</div>"
      ],
      "text/plain": [
       "                               gamma  massa  tel  run  evento  energia\n",
       "0  gamma_tel_3_run_093_event_100.txt  gamma    3   93     100   1.9753\n",
       "1  gamma_tel_3_run_047_event_100.txt  gamma    3   47     100   0.0341\n",
       "2  gamma_tel_3_run_040_event_100.txt  gamma    3   40     100   0.1156\n",
       "3  gamma_tel_2_run_068_event_100.txt  gamma    2   68     100   0.4402\n",
       "4  gamma_tel_3_run_083_event_100.txt  gamma    3   83     100   0.1310"
      ]
     },
     "execution_count": 82,
     "metadata": {},
     "output_type": "execute_result"
    }
   ],
   "source": [
    "df_el.head()"
   ]
  },
  {
   "cell_type": "code",
   "execution_count": 7,
   "metadata": {},
   "outputs": [
    {
     "data": {
      "text/plain": [
       "'  (3): energy'"
      ]
     },
     "execution_count": 7,
     "metadata": {},
     "output_type": "execute_result"
    }
   ],
   "source": [
    "get_title(3, header)"
   ]
  },
  {
   "cell_type": "code",
   "execution_count": 8,
   "metadata": {},
   "outputs": [],
   "source": [
    "header = data[mass][1]['run_1'].columns"
   ]
  },
  {
   "cell_type": "code",
   "execution_count": 26,
   "metadata": {},
   "outputs": [
    {
     "name": "stdout",
     "output_type": "stream",
     "text": [
      "0.4445\n",
      "0.2444\n",
      "0.1982\n",
      "0\n",
      "0.0991\n",
      "0.1029\n",
      "0.0353\n",
      "0.0536\n",
      "0.0977\n",
      "0\n",
      "4.0756\n",
      "0.0991\n",
      "2.6162\n",
      "0.0349\n",
      "0.2999\n",
      "0.0977\n",
      "0.0352\n",
      "0.1878\n",
      "0.5174\n",
      "0.0728\n",
      "0.0349\n",
      "0\n",
      "0.1982\n",
      "1.9735\n",
      "0\n",
      "0.0369\n",
      "0.1902\n",
      "2.2546\n",
      "0\n",
      "0.0424\n",
      "0.0876\n",
      "0.5955\n",
      "0.0363\n",
      "0\n",
      "0\n",
      "0.0797\n",
      "0.4141\n",
      "0.4445\n",
      "1.5329\n",
      "0.0977\n",
      "0.2109\n",
      "1.5329\n",
      "0\n",
      "3.5624\n",
      "0.1387\n",
      "0.1982\n",
      "0.0411\n",
      "0.4759\n",
      "0.0388\n",
      "0.7582\n",
      "0\n",
      "4.9477\n",
      "0.0643\n",
      "1.1713\n",
      "1.9753\n",
      "0\n",
      "0.0494\n",
      "0\n",
      "0.1722\n",
      "0\n",
      "1.5429\n",
      "0.0349\n",
      "0.0643\n",
      "0.1023\n",
      "0\n",
      "0\n",
      "0.3804\n",
      "1.5429\n",
      "0.4759\n",
      "1.9753\n",
      "3.9711\n",
      "0.0797\n",
      "0.0991\n",
      "0.1156\n",
      "0.0544\n",
      "0.1028\n",
      "0.0923\n",
      "1.1068\n",
      "2.2546\n",
      "0.0424\n",
      "1.0817\n",
      "0.0536\n",
      "1.9753\n",
      "0.0806\n",
      "0.0671\n",
      "0.312\n",
      "0.0388\n",
      "1.674\n",
      "0\n",
      "0\n",
      "0.0923\n",
      "0.0671\n",
      "0\n",
      "3.9711\n",
      "0\n",
      "1.1068\n",
      "2.0315\n",
      "0.0911\n",
      "1.1306\n",
      "0.1878\n"
     ]
    }
   ],
   "source": [
    "for i in range(100):\n",
    "    print(get_energy(classe[i], eventos[i], data[\"gamma\"][telescopio[1]][f'run_{int(runs[i])}'], header))"
   ]
  },
  {
   "cell_type": "code",
   "execution_count": 35,
   "metadata": {},
   "outputs": [
    {
     "data": {
      "text/plain": [
       "(2, 2)"
      ]
     },
     "execution_count": 35,
     "metadata": {},
     "output_type": "execute_result"
    }
   ],
   "source": [
    "telescopio[2959], runs[2959]"
   ]
  },
  {
   "cell_type": "code",
   "execution_count": null,
   "metadata": {},
   "outputs": [],
   "source": []
  }
 ],
 "metadata": {
  "kernelspec": {
   "display_name": "tf-keras",
   "language": "python",
   "name": "python3"
  },
  "language_info": {
   "codemirror_mode": {
    "name": "ipython",
    "version": 3
   },
   "file_extension": ".py",
   "mimetype": "text/x-python",
   "name": "python",
   "nbconvert_exporter": "python",
   "pygments_lexer": "ipython3",
   "version": "3.10.12"
  }
 },
 "nbformat": 4,
 "nbformat_minor": 2
}
